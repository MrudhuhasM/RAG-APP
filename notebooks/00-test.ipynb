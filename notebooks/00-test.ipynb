{
 "cells": [
  {
   "cell_type": "code",
   "execution_count": 1,
   "id": "af26b5f6",
   "metadata": {},
   "outputs": [
    {
     "name": "stderr",
     "output_type": "stream",
     "text": [
      "c:\\Users\\mrudh\\Documents\\Projects\\ProfileProject\\rag_app\\.venv\\Lib\\site-packages\\tqdm\\auto.py:21: TqdmWarning: IProgress not found. Please update jupyter and ipywidgets. See https://ipywidgets.readthedocs.io/en/stable/user_install.html\n",
      "  from .autonotebook import tqdm as notebook_tqdm\n"
     ]
    }
   ],
   "source": [
    "from llama_index.readers.file import PyMuPDFReader\n",
    "from rag_app.services.ingest import IngestionService\n",
    "from llama_index.core.node_parser import SemanticSplitterNodeParser\n",
    "\n",
    "from rag_app.embeddings import get_chunk_embeddings, get_embed_model\n",
    "from openai import AsyncOpenAI\n",
    "from rag_app.config.settings import settings\n",
    "from rag_app.core.vector_client import VectorClient"
   ]
  },
  {
   "cell_type": "code",
   "execution_count": 2,
   "id": "f6cd44aa",
   "metadata": {},
   "outputs": [
    {
     "name": "stderr",
     "output_type": "stream",
     "text": [
      "\u001b[32m2025-10-21 07:10:24\u001b[0m | \u001b[1mINFO    \u001b[0m | \u001b[36mrag_app.embeddings\u001b[0m:\u001b[36mget_chunk_embeddings\u001b[0m:\u001b[36m23\u001b[0m - \u001b[1mUsing llama-index Local Embedding Model\u001b[0m\n",
      "\u001b[32m2025-10-21 07:10:24\u001b[0m | \u001b[1mINFO    \u001b[0m | \u001b[36mrag_app.embeddings\u001b[0m:\u001b[36mget_embed_model\u001b[0m:\u001b[36m39\u001b[0m - \u001b[1mInitializing Local Models Embedding Model\u001b[0m\n",
      "\u001b[32m2025-10-21 07:10:24\u001b[0m | \u001b[1mINFO    \u001b[0m | \u001b[36mrag_app.services.ingest\u001b[0m:\u001b[36m_ingest_file\u001b[0m:\u001b[36m29\u001b[0m - \u001b[1mLoading documents from C:/Users/mrudh/Documents/Data/CWMG-KS-Vol-001-I.pdf\u001b[0m\n",
      "\u001b[32m2025-10-21 07:10:30\u001b[0m | \u001b[1mINFO    \u001b[0m | \u001b[36mrag_app.services.ingest\u001b[0m:\u001b[36m_ingest_file\u001b[0m:\u001b[36m31\u001b[0m - \u001b[1mLoaded 457 documents.\u001b[0m\n",
      "\u001b[32m2025-10-21 07:10:30\u001b[0m | \u001b[1mINFO    \u001b[0m | \u001b[36mrag_app.services.ingest\u001b[0m:\u001b[36m_preprocess_documents\u001b[0m:\u001b[36m44\u001b[0m - \u001b[1mStarting document preprocessing...\u001b[0m\n",
      "\u001b[32m2025-10-21 07:10:30\u001b[0m | \u001b[1mINFO    \u001b[0m | \u001b[36mrag_app.services.ingest\u001b[0m:\u001b[36m_filter_empty_documents\u001b[0m:\u001b[36m39\u001b[0m - \u001b[1mFiltered documents: 422 non-empty out of 457\u001b[0m\n",
      "\u001b[32m2025-10-21 07:10:30\u001b[0m | \u001b[1mINFO    \u001b[0m | \u001b[36mrag_app.services.ingest\u001b[0m:\u001b[36m_preprocess_documents\u001b[0m:\u001b[36m46\u001b[0m - \u001b[1mDocument preprocessing completed.\u001b[0m\n",
      "\u001b[32m2025-10-21 07:10:30\u001b[0m | \u001b[1mINFO    \u001b[0m | \u001b[36mrag_app.services.ingest\u001b[0m:\u001b[36m_chunk_documents\u001b[0m:\u001b[36m54\u001b[0m - \u001b[1mChunking 4 documents into nodes...\u001b[0m\n",
      "\u001b[32m2025-10-21 07:10:35\u001b[0m | \u001b[1mINFO    \u001b[0m | \u001b[36mrag_app.services.ingest\u001b[0m:\u001b[36m_chunk_documents\u001b[0m:\u001b[36m56\u001b[0m - \u001b[1mChunked documents into 8 nodes.\u001b[0m\n",
      "\u001b[32m2025-10-21 07:10:35\u001b[0m | \u001b[1mINFO    \u001b[0m | \u001b[36mrag_app.services.ingest\u001b[0m:\u001b[36m_process_nodes\u001b[0m:\u001b[36m120\u001b[0m - \u001b[1mExtracting metadata for nodes...\u001b[0m\n",
      "\u001b[32m2025-10-21 07:12:05\u001b[0m | \u001b[1mINFO    \u001b[0m | \u001b[36mrag_app.services.ingest\u001b[0m:\u001b[36m_process_nodes\u001b[0m:\u001b[36m125\u001b[0m - \u001b[1mMetadata extraction completed.\u001b[0m\n",
      "\u001b[32m2025-10-21 07:12:05\u001b[0m | \u001b[1mINFO    \u001b[0m | \u001b[36mrag_app.services.ingest\u001b[0m:\u001b[36m_embed_nodes\u001b[0m:\u001b[36m151\u001b[0m - \u001b[1mEmbedding nodes...\u001b[0m\n",
      "\u001b[32m2025-10-21 07:12:06\u001b[0m | \u001b[1mINFO    \u001b[0m | \u001b[36mrag_app.services.ingest\u001b[0m:\u001b[36m_embed_nodes\u001b[0m:\u001b[36m156\u001b[0m - \u001b[1mEmbedding completed.\u001b[0m\n",
      "\u001b[32m2025-10-21 07:12:06\u001b[0m | \u001b[1mINFO    \u001b[0m | \u001b[36mrag_app.services.ingest\u001b[0m:\u001b[36mingest\u001b[0m:\u001b[36m223\u001b[0m - \u001b[1mIngestion completed in 101.50 seconds\u001b[0m\n"
     ]
    }
   ],
   "source": [
    "import nest_asyncio\n",
    "nest_asyncio.apply()\n",
    "\n",
    "reader = PyMuPDFReader()\n",
    "chunk_embed_model = get_chunk_embeddings()\n",
    "embedding_client = get_embed_model()\n",
    "\n",
    "client = AsyncOpenAI(base_url=settings.local_models.completion_base_url, api_key=\"test\")\n",
    "\n",
    "vector_client = VectorClient(\n",
    "    api_key=settings.pinecone.api_key,\n",
    "    environment=settings.pinecone.environment,\n",
    "    index_name=settings.pinecone.index_name,\n",
    "    dimension=settings.pinecone.dimension,\n",
    "    metric=settings.pinecone.metric,\n",
    "    cloud=settings.pinecone.cloud,\n",
    "    region=settings.pinecone.region,\n",
    ")\n",
    "\n",
    "\n",
    "node_parser = SemanticSplitterNodeParser(embed_model=chunk_embed_model)\n",
    "\n",
    "ingest_service = IngestionService(\n",
    "    reader=reader,\n",
    "    node_parser=node_parser,\n",
    "    client=client,\n",
    "    vector_client=vector_client,\n",
    "    embedding_client=embedding_client,\n",
    ")\n",
    "\n",
    "nodes = await ingest_service.ingest(file_path=\"C:/Users/mrudh/Documents/Data/CWMG-KS-Vol-001-I.pdf\")"
   ]
  },
  {
   "cell_type": "code",
   "execution_count": 4,
   "id": "ff810fcc",
   "metadata": {},
   "outputs": [
    {
     "data": {
      "text/plain": [
       "{'total_pages': 457,\n",
       " 'file_path': 'C:/Users/mrudh/Documents/Data/CWMG-KS-Vol-001-I.pdf',\n",
       " 'source': '32',\n",
       " 'questions': ['Why did the white farmers fear the Indian traders?',\n",
       "  'What were the advantages of the Indian traders?',\n",
       "  'How did the Indian traders operate in comparison to the British and Dutch?',\n",
       "  'What was the impact of the Indian traders on the prices of white farmer goods?',\n",
       "  'What was the concern regarding the free entry and trade of the Indians into the country?']}"
      ]
     },
     "execution_count": 4,
     "metadata": {},
     "output_type": "execute_result"
    }
   ],
   "source": [
    "nodes[0].metadata"
   ]
  },
  {
   "cell_type": "code",
   "execution_count": null,
   "id": "86766dc9",
   "metadata": {},
   "outputs": [],
   "source": []
  }
 ],
 "metadata": {
  "kernelspec": {
   "display_name": "rag-app (3.12.8)",
   "language": "python",
   "name": "python3"
  },
  "language_info": {
   "codemirror_mode": {
    "name": "ipython",
    "version": 3
   },
   "file_extension": ".py",
   "mimetype": "text/x-python",
   "name": "python",
   "nbconvert_exporter": "python",
   "pygments_lexer": "ipython3",
   "version": "3.12.8"
  }
 },
 "nbformat": 4,
 "nbformat_minor": 5
}
